{
 "cells": [
  {
   "cell_type": "markdown",
   "metadata": {},
   "source": [
    "# Test Site Read Me\n",
    "Test site is a simple django app for testing ideas in [Django][django]. The App has a self registery model, a bootstrap navigation bar and a dropzone for adding files once a user is registered and logged in. To view the django administration site log in as user name: admin, password:administrator \n",
    "\n",
    "1. In order for the site to work you must have python 2.7 installed. Use [Anaconda] [anaconda] for this\n",
    "2. You must have installed django (go to the cmd prompt and do pip install django)\n",
    "3. You must have django-registration installed (pip install django-registration)\n",
    "4.__Optional__ Edit C:\\Anaconda2\\Lib\\site-packages\\registration\\forms.py, so that it has first_name and last name in the meta class\n",
    "```python\n",
    "    class Meta(UserCreationForm.Meta):\n",
    "        fields = [\n",
    "            User.USERNAME_FIELD,\n",
    "            'first_name',\n",
    "            'last_name',\n",
    "            'email',\n",
    "            'password1',\n",
    "            'password2'\n",
    "        ]\n",
    "        required_css_class = 'required'\n",
    " ``` \n",
    " 5. Open the cmd prompt and go to the folder test_site/Test_site\n",
    " 6. Run python manage.py runserver at the cmd prompt. Now if you open any web browser and go to [http://localhost:8000/][local] or http://127.0.0.1:8000 you should see the website. \n",
    " 7. If you log in using Username:admin, password: administrator then you will be able to add files by navigating to repository (in the nav-bar) and drag-n-dropping them on the dropzone or clicking the dropzone and adding the file. It will appear in a file c:\\data\\admin\\2016\\2\\8\\filename.\n",
    " \n",
    "8. If you want to add a user from the admin interface go to [http://localhost:8000/admin][admin] and add user.\n",
    "\n",
    "## How it works\n",
    "<hr/>\n",
    "1. The webbrowser looks for a website at localhost:8000\n",
    "2. Django gets the url requested and uses Test_Site/Test_Site/urls.py to asign it to a function. In urls.py the url requested is most likely sent to Test_Site/Test_App/urls.py via the include statement in the urlpatterns.\n",
    "3. There it is sent to the function IndexView.as_view(), which finds the template index.html (it is in test_site/Test_Site/Test_Site/templates/) it knows to find it here by reading the test_site/Test_Site/Test_Site/settings.py file, specifically the TEMPLATES setting.\n",
    "4. View fills in stuff using the context variable and some static text.\n",
    "5. When you ask for a different url the same thing happens but with a different function.\n",
    "6. The admin interface is reading the models defined in test_site/Test_Site/Test_App/models.py that are registered with it using test_site/Test_Site/Test_App/admin.py\n",
    "7. The user and group models are hidden in the django source code. It will be in C:\\Anaconda2\\Lib\\site-packages\\django if you don't change the directory that anaconda wants to use\n",
    "\n",
    "\n",
    "\n",
    "[local]:http://localhost:8000/ \n",
    "[admin]:http://localhost:8000/admin\n",
    "[django]:https://www.djangoproject.com/"
   ]
  }
 ],
 "metadata": {
  "kernelspec": {
   "display_name": "Python 2",
   "language": "python",
   "name": "python2"
  },
  "language_info": {
   "codemirror_mode": {
    "name": "ipython",
    "version": 2
   },
   "file_extension": ".py",
   "mimetype": "text/x-python",
   "name": "python",
   "nbconvert_exporter": "python",
   "pygments_lexer": "ipython2",
   "version": "2.7.11"
  }
 },
 "nbformat": 4,
 "nbformat_minor": 0
}
